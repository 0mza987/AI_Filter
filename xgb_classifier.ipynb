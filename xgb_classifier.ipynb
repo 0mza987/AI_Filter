{
 "cells": [
  {
   "cell_type": "code",
   "execution_count": 1,
   "metadata": {},
   "outputs": [
    {
     "name": "stderr",
     "output_type": "stream",
     "text": [
      "[MLENS] backend: threading\n",
      "Using TensorFlow backend.\n"
     ]
    }
   ],
   "source": [
    "# -*-coding:utf-8-*-\n",
    "import os\n",
    "import glob\n",
    "import json\n",
    "import time\n",
    "import matplotlib\n",
    "# matplotlib.use('agg')\n",
    "%matplotlib inline\n",
    "import numpy as np\n",
    "import pandas as pd\n",
    "import seaborn as sns\n",
    "import xgboost as xgb\n",
    "import matplotlib.pyplot as plt\n",
    "\n",
    "from mlens.ensemble import SuperLearner\n",
    "from sklearn.ensemble import AdaBoostClassifier, GradientBoostingClassifier, GradientBoostingClassifier\n",
    "from sklearn.ensemble import ExtraTreesClassifier, VotingClassifier, RandomForestClassifier\n",
    "from sklearn.discriminant_analysis import LinearDiscriminantAnalysis\n",
    "from sklearn.linear_model import LogisticRegression\n",
    "from sklearn.neighbors import KNeighborsClassifier\n",
    "from sklearn.tree import DecisionTreeClassifier, DecisionTreeRegressor\n",
    "from sklearn.neural_network import MLPClassifier\n",
    "from sklearn.svm import SVC\n",
    "from sklearn.model_selection import train_test_split\n",
    "from sklearn.model_selection import GridSearchCV, cross_val_score, StratifiedKFold, learning_curve, KFold\n",
    "from sklearn.externals import joblib\n",
    "\n",
    "from scipy.stats import pearsonr, spearmanr, kendalltau\n",
    "# from kappa_calculator import quadratic_weighted_kappa as qwk\n",
    "# from kappa_calculator import liaesr_weighted_kappa as lwk\n",
    "\n",
    "from PIL import Image\n",
    "from keras.preprocessing import image\n",
    "from keras.models import load_model\n",
    "from keras.applications.inception_v3 import preprocess_input\n",
    "\n",
    "sns.set(style='white', context='notebook', palette='deep')\n"
   ]
  },
  {
   "cell_type": "markdown",
   "metadata": {},
   "source": [
    "## Load the data"
   ]
  },
  {
   "cell_type": "code",
   "execution_count": 2,
   "metadata": {
    "scrolled": true
   },
   "outputs": [
    {
     "data": {
      "text/html": [
       "<div>\n",
       "<style>\n",
       "    .dataframe thead tr:only-child th {\n",
       "        text-align: right;\n",
       "    }\n",
       "\n",
       "    .dataframe thead th {\n",
       "        text-align: left;\n",
       "    }\n",
       "\n",
       "    .dataframe tbody tr th {\n",
       "        vertical-align: top;\n",
       "    }\n",
       "</style>\n",
       "<table border=\"1\" class=\"dataframe\">\n",
       "  <thead>\n",
       "    <tr style=\"text-align: right;\">\n",
       "      <th></th>\n",
       "      <th>correct</th>\n",
       "      <th>prob_avg</th>\n",
       "      <th>text_size</th>\n",
       "      <th>ref_size</th>\n",
       "      <th>text_word_size</th>\n",
       "      <th>ref_word_size</th>\n",
       "      <th>flag_short</th>\n",
       "      <th>flag_digit</th>\n",
       "      <th>prob_0</th>\n",
       "      <th>prob_1</th>\n",
       "      <th>...</th>\n",
       "      <th>nb_strip</th>\n",
       "      <th>flag_equal</th>\n",
       "      <th>feature_0</th>\n",
       "      <th>feature_1</th>\n",
       "      <th>feature_2</th>\n",
       "      <th>feature_3</th>\n",
       "      <th>feature_4</th>\n",
       "      <th>feature_5</th>\n",
       "      <th>feature_6</th>\n",
       "      <th>feature_7</th>\n",
       "    </tr>\n",
       "  </thead>\n",
       "  <tbody>\n",
       "    <tr>\n",
       "      <th>0</th>\n",
       "      <td>0</td>\n",
       "      <td>0.993067</td>\n",
       "      <td>6</td>\n",
       "      <td>7</td>\n",
       "      <td>1</td>\n",
       "      <td>1</td>\n",
       "      <td>0</td>\n",
       "      <td>0</td>\n",
       "      <td>0</td>\n",
       "      <td>0</td>\n",
       "      <td>...</td>\n",
       "      <td>0</td>\n",
       "      <td>0</td>\n",
       "      <td>0</td>\n",
       "      <td>0</td>\n",
       "      <td>1</td>\n",
       "      <td>0</td>\n",
       "      <td>0</td>\n",
       "      <td>0</td>\n",
       "      <td>0</td>\n",
       "      <td>1</td>\n",
       "    </tr>\n",
       "    <tr>\n",
       "      <th>1</th>\n",
       "      <td>1</td>\n",
       "      <td>0.991831</td>\n",
       "      <td>15</td>\n",
       "      <td>15</td>\n",
       "      <td>1</td>\n",
       "      <td>1</td>\n",
       "      <td>0</td>\n",
       "      <td>0</td>\n",
       "      <td>0</td>\n",
       "      <td>0</td>\n",
       "      <td>...</td>\n",
       "      <td>0</td>\n",
       "      <td>1</td>\n",
       "      <td>0</td>\n",
       "      <td>1</td>\n",
       "      <td>1</td>\n",
       "      <td>1</td>\n",
       "      <td>1</td>\n",
       "      <td>1</td>\n",
       "      <td>1</td>\n",
       "      <td>1</td>\n",
       "    </tr>\n",
       "    <tr>\n",
       "      <th>2</th>\n",
       "      <td>1</td>\n",
       "      <td>0.994514</td>\n",
       "      <td>5</td>\n",
       "      <td>5</td>\n",
       "      <td>1</td>\n",
       "      <td>1</td>\n",
       "      <td>0</td>\n",
       "      <td>0</td>\n",
       "      <td>0</td>\n",
       "      <td>0</td>\n",
       "      <td>...</td>\n",
       "      <td>0</td>\n",
       "      <td>1</td>\n",
       "      <td>0</td>\n",
       "      <td>1</td>\n",
       "      <td>1</td>\n",
       "      <td>1</td>\n",
       "      <td>1</td>\n",
       "      <td>1</td>\n",
       "      <td>1</td>\n",
       "      <td>1</td>\n",
       "    </tr>\n",
       "    <tr>\n",
       "      <th>3</th>\n",
       "      <td>1</td>\n",
       "      <td>0.393408</td>\n",
       "      <td>1</td>\n",
       "      <td>1</td>\n",
       "      <td>1</td>\n",
       "      <td>1</td>\n",
       "      <td>1</td>\n",
       "      <td>0</td>\n",
       "      <td>1</td>\n",
       "      <td>0</td>\n",
       "      <td>...</td>\n",
       "      <td>0</td>\n",
       "      <td>0</td>\n",
       "      <td>0</td>\n",
       "      <td>0</td>\n",
       "      <td>1</td>\n",
       "      <td>0</td>\n",
       "      <td>0</td>\n",
       "      <td>0</td>\n",
       "      <td>0</td>\n",
       "      <td>0</td>\n",
       "    </tr>\n",
       "    <tr>\n",
       "      <th>4</th>\n",
       "      <td>1</td>\n",
       "      <td>0.995023</td>\n",
       "      <td>4</td>\n",
       "      <td>4</td>\n",
       "      <td>1</td>\n",
       "      <td>1</td>\n",
       "      <td>0</td>\n",
       "      <td>0</td>\n",
       "      <td>0</td>\n",
       "      <td>0</td>\n",
       "      <td>...</td>\n",
       "      <td>0</td>\n",
       "      <td>1</td>\n",
       "      <td>0</td>\n",
       "      <td>1</td>\n",
       "      <td>1</td>\n",
       "      <td>1</td>\n",
       "      <td>1</td>\n",
       "      <td>1</td>\n",
       "      <td>1</td>\n",
       "      <td>1</td>\n",
       "    </tr>\n",
       "  </tbody>\n",
       "</table>\n",
       "<p>5 rows × 28 columns</p>\n",
       "</div>"
      ],
      "text/plain": [
       "   correct  prob_avg  text_size  ref_size  text_word_size  ref_word_size  \\\n",
       "0        0  0.993067          6         7               1              1   \n",
       "1        1  0.991831         15        15               1              1   \n",
       "2        1  0.994514          5         5               1              1   \n",
       "3        1  0.393408          1         1               1              1   \n",
       "4        1  0.995023          4         4               1              1   \n",
       "\n",
       "   flag_short  flag_digit  prob_0  prob_1    ...      nb_strip  flag_equal  \\\n",
       "0           0           0       0       0    ...             0           0   \n",
       "1           0           0       0       0    ...             0           1   \n",
       "2           0           0       0       0    ...             0           1   \n",
       "3           1           0       1       0    ...             0           0   \n",
       "4           0           0       0       0    ...             0           1   \n",
       "\n",
       "   feature_0  feature_1  feature_2  feature_3  feature_4  feature_5  \\\n",
       "0          0          0          1          0          0          0   \n",
       "1          0          1          1          1          1          1   \n",
       "2          0          1          1          1          1          1   \n",
       "3          0          0          1          0          0          0   \n",
       "4          0          1          1          1          1          1   \n",
       "\n",
       "   feature_6  feature_7  \n",
       "0          0          1  \n",
       "1          1          1  \n",
       "2          1          1  \n",
       "3          0          0  \n",
       "4          1          1  \n",
       "\n",
       "[5 rows x 28 columns]"
      ]
     },
     "execution_count": 2,
     "metadata": {},
     "output_type": "execute_result"
    }
   ],
   "source": [
    "FLAG_gs = True\n",
    "\n",
    "dataset = pd.read_csv('./dataset/csv_data/blank_train.csv')\n",
    "valid_data = pd.read_csv('./dataset/csv_data/blank_valid.csv')\n",
    "\n",
    "# dataset = pd.read_csv('./dataset/archived_49_exams/csv_data/blank_train.csv')\n",
    "# valid_data = pd.read_csv('./dataset/archived_49_exams/csv_data/blank_valid.csv')\n",
    "\n",
    "experiment_name = 'first experiment'\n",
    "dataset.head()"
   ]
  },
  {
   "cell_type": "code",
   "execution_count": 3,
   "metadata": {
    "scrolled": true
   },
   "outputs": [
    {
     "name": "stdout",
     "output_type": "stream",
     "text": [
      "DataFrame shape: (786387, 28)\n"
     ]
    }
   ],
   "source": [
    "dataset.columns.tolist()\n",
    "print 'DataFrame shape:', dataset.shape"
   ]
  },
  {
   "cell_type": "markdown",
   "metadata": {},
   "source": [
    "## Split train and test dataset"
   ]
  },
  {
   "cell_type": "code",
   "execution_count": 4,
   "metadata": {
    "scrolled": true
   },
   "outputs": [
    {
     "name": "stdout",
     "output_type": "stream",
     "text": [
      "Features count: 27\n"
     ]
    }
   ],
   "source": [
    "# dataset = dataset.drop(['other_avg'],axis=1)\n",
    "# valid_data = valid_data.drop(['other_avg'],axis=1)\n",
    "\n",
    "x_train = dataset.iloc[:,1:]\n",
    "y_train = dataset['correct']\n",
    "\n",
    "x_valid = valid_data.iloc[:,1:]\n",
    "y_valid = valid_data['correct']\n",
    "\n",
    "print 'Features count:', len(x_train.columns.tolist())"
   ]
  },
  {
   "cell_type": "markdown",
   "metadata": {},
   "source": [
    "## 1. xgboost classifier"
   ]
  },
  {
   "cell_type": "code",
   "execution_count": 5,
   "metadata": {
    "collapsed": true
   },
   "outputs": [],
   "source": [
    "xgb_model = xgb.XGBClassifier().fit(x_train, y_train)"
   ]
  },
  {
   "cell_type": "markdown",
   "metadata": {},
   "source": [
    "#### 直接预测结果"
   ]
  },
  {
   "cell_type": "code",
   "execution_count": 6,
   "metadata": {},
   "outputs": [
    {
     "data": {
      "text/plain": [
       "0.9134371328148446"
      ]
     },
     "execution_count": 6,
     "metadata": {},
     "output_type": "execute_result"
    }
   ],
   "source": [
    "y_pred = xgb_model.predict(x_valid)\n",
    "correct_count = 0\n",
    "for t1, t2 in zip(y_valid, y_pred):\n",
    "    if t1 == t2:\n",
    "        correct_count += 1\n",
    "1.0 * correct_count / len(y_pred)"
   ]
  },
  {
   "cell_type": "markdown",
   "metadata": {
    "collapsed": true
   },
   "source": [
    "####  grid search 调参"
   ]
  },
  {
   "cell_type": "code",
   "execution_count": 7,
   "metadata": {
    "scrolled": false
   },
   "outputs": [
    {
     "name": "stdout",
     "output_type": "stream",
     "text": [
      "Fitting 3 folds for each of 64 candidates, totalling 192 fits\n"
     ]
    },
    {
     "name": "stderr",
     "output_type": "stream",
     "text": [
      "[Parallel(n_jobs=11)]: Done  28 tasks      | elapsed:  7.1min\n",
      "[Parallel(n_jobs=11)]: Done 192 out of 192 | elapsed: 56.7min finished\n"
     ]
    },
    {
     "name": "stdout",
     "output_type": "stream",
     "text": [
      "0.922906914789\n",
      "{'colsample_bytree': 0.3, 'silent': 1, 'learning_rate': 0.1, 'min_child_weight': 6, 'n_estimators': 300, 'subsample': 0.7, 'objective': 'binary:logistic', 'max_depth': 8}\n"
     ]
    }
   ],
   "source": [
    "if FLAG_gs == True:\n",
    "    xgb1 = xgb.XGBClassifier()\n",
    "    parameters = {\n",
    "        'objective':['binary:logistic'],\n",
    "        'learning_rate': [0.08, 0.1], #so called `eta` value\n",
    "        'max_depth': [6, 8],\n",
    "        'min_child_weight': [6, 8],\n",
    "        'silent': [1],\n",
    "        'subsample': [0.7, 0.5],\n",
    "        'colsample_bytree': [0.2, 0.3],\n",
    "        'n_estimators': [200, 300]\n",
    "    }\n",
    "    xgb_grid = GridSearchCV(xgb1,\n",
    "                            parameters,\n",
    "                            n_jobs = 11,\n",
    "                            verbose=True)\n",
    "    xgb_grid.fit(x_train, y_train)\n",
    "    xgb_best = xgb_grid.best_estimator_\n",
    "\n",
    "    print xgb_grid.best_score_\n",
    "    print xgb_grid.best_params_\n",
    "    \n",
    "else:\n",
    "#     xgb_best = xgb_model\n",
    "    xgb_best = joblib.load('./models/xgb_clf.model')\n",
    "    \n",
    "weights = xgb_best.feature_importances_\n",
    "\n",
    "# 0.9038040937\n",
    "# {'colsample_bytree': 0.3, \n",
    "#  'silent': 1, \n",
    "#  'learning_rate': 0.1, \n",
    "#  'min_child_weight': 4, \n",
    "#  'n_estimators': 300, \n",
    "#  'subsample': 0.7, \n",
    "#  'objective': 'binary:logistic', \n",
    "#  'max_depth': 8}\n",
    "\n",
    "# Fitting 3 folds for each of 972 candidates, totalling 2916 fits\n",
    "# [Parallel(n_jobs=-1)]: Done  26 tasks      | elapsed:   30.7s\n",
    "# [Parallel(n_jobs=-1)]: Done 176 tasks      | elapsed:  3.7min\n",
    "# [Parallel(n_jobs=-1)]: Done 426 tasks      | elapsed:  9.6min\n",
    "# [Parallel(n_jobs=-1)]: Done 776 tasks      | elapsed: 18.1min\n",
    "# [Parallel(n_jobs=-1)]: Done 1226 tasks      | elapsed: 27.5min\n",
    "# [Parallel(n_jobs=-1)]: Done 1776 tasks      | elapsed: 37.3min\n",
    "# [Parallel(n_jobs=-1)]: Done 2426 tasks      | elapsed: 45.5min\n",
    "# [Parallel(n_jobs=-1)]: Done 2916 out of 2916 | elapsed: 50.4min finished"
   ]
  },
  {
   "cell_type": "code",
   "execution_count": 8,
   "metadata": {
    "scrolled": true
   },
   "outputs": [
    {
     "data": {
      "text/plain": [
       "0.9227760342222923"
      ]
     },
     "execution_count": 8,
     "metadata": {},
     "output_type": "execute_result"
    }
   ],
   "source": [
    "y_pred = xgb_best.predict(x_valid)\n",
    "correct_count = 0\n",
    "for t1, t2 in zip(1.0 *y_valid, y_pred):\n",
    "    if t1 == t2:\n",
    "        correct_count += 1\n",
    "1.0 * correct_count / len(y_pred)\n"
   ]
  },
  {
   "cell_type": "markdown",
   "metadata": {},
   "source": [
    "## Feature importances of the model"
   ]
  },
  {
   "cell_type": "code",
   "execution_count": 9,
   "metadata": {},
   "outputs": [
    {
     "data": {
      "text/plain": [
       "<matplotlib.text.Text at 0x7f056dfc73d0>"
      ]
     },
     "execution_count": 9,
     "metadata": {},
     "output_type": "execute_result"
    },
    {
     "data": {
      "image/png": "[encoded data removed]",
      "text/plain": [
       "<matplotlib.figure.Figure at 0x7f05e4c46050>"
      ]
     },
     "metadata": {},
     "output_type": "display_data"
    }
   ],
   "source": [
    "indices = np.argsort(xgb_best.feature_importances_)[::-1]\n",
    "fig, ax = plt.subplots(figsize=(12,12))\n",
    "g = sns.barplot(y=x_train.columns[indices], x=xgb_best.feature_importances_[indices], orient='h', ax=ax)\n",
    "\n",
    "g.set_xlabel('Importance')\n",
    "g.set_ylabel('features')\n",
    "g.set_title(\"xgb_best feature importance\")"
   ]
  },
  {
   "cell_type": "markdown",
   "metadata": {},
   "source": [
    "### Save xgb_best"
   ]
  },
  {
   "cell_type": "code",
   "execution_count": 10,
   "metadata": {},
   "outputs": [
    {
     "data": {
      "text/plain": [
       "['models/xgb_clf.model']"
      ]
     },
     "execution_count": 10,
     "metadata": {},
     "output_type": "execute_result"
    }
   ],
   "source": [
    "joblib.dump(xgb_best, 'models/xgb_clf.model')"
   ]
  },
  {
   "cell_type": "markdown",
   "metadata": {},
   "source": [
    "###  评分函数"
   ]
  },
  {
   "cell_type": "code",
   "execution_count": 11,
   "metadata": {
    "collapsed": true
   },
   "outputs": [],
   "source": [
    "def calc_correl(test_pred, test_origin):\n",
    "    test_prs, _ = pearsonr(test_pred, test_origin)\n",
    "    test_spr, _ = spearmanr(test_pred, test_origin)\n",
    "    test_tau, _ = kendalltau(test_pred, test_origin)\n",
    "    return test_spr, test_tau\n",
    "\n",
    "\n",
    "def calc_qwk(test_pred, test_origin, self_low, self_high):\n",
    "    test_pred_int = np.rint(test_pred).astype('int32')\n",
    "    test_origin_int = np.rint(test_origin).astype('int32')\n",
    "    test_qwk = qwk(test_origin_int, test_pred_int, self_low, self_high)\n",
    "    test_lwk = lwk(test_origin_int, test_pred_int, self_low, self_high)\n",
    "    return test_qwk,test_lwk"
   ]
  },
  {
   "cell_type": "markdown",
   "metadata": {
    "collapsed": true
   },
   "source": [
    "## 2. 模型融合"
   ]
  },
  {
   "cell_type": "markdown",
   "metadata": {},
   "source": [
    "### 2.1 Initialize model"
   ]
  },
  {
   "cell_type": "code",
   "execution_count": 12,
   "metadata": {
    "collapsed": true
   },
   "outputs": [],
   "source": [
    "ensemble = SuperLearner()"
   ]
  },
  {
   "cell_type": "markdown",
   "metadata": {},
   "source": [
    "### 2.2 add 7 different estimators to the first layer"
   ]
  },
  {
   "cell_type": "code",
   "execution_count": 13,
   "metadata": {},
   "outputs": [
    {
     "data": {
      "text/plain": [
       "SuperLearner(array_check=2, backend=None, folds=2,\n",
       "       layers=[Layer(backend='threading', dtype=<type 'numpy.float32'>, n_jobs=-1,\n",
       "   name='layer-1', propagate_features=None, raise_on_exception=True,\n",
       "   random_state=None, shuffle=False,\n",
       "   stack=[Group(backend='threading', dtype=<type 'numpy.float32'>,\n",
       "   indexer=FoldIndex(X=None, folds=2, raise_on_exce...rer=None)],\n",
       "   n_jobs=-1, name='group-0', raise_on_exception=True, transformers=[])],\n",
       "   verbose=0)],\n",
       "       model_selection=False, n_jobs=None, raise_on_exception=True,\n",
       "       random_state=None, sample_size=20, scorer=None, shuffle=False,\n",
       "       verbose=False)"
      ]
     },
     "execution_count": 13,
     "metadata": {},
     "output_type": "execute_result"
    }
   ],
   "source": [
    "ensemble.add([\n",
    "    SVC(),\n",
    "    AdaBoostClassifier(),\n",
    "    GradientBoostingClassifier(),\n",
    "    RandomForestClassifier(),\n",
    "    ExtraTreesClassifier(),\n",
    "    LogisticRegression(),\n",
    "    xgb.XGBClassifier()\n",
    "])"
   ]
  },
  {
   "cell_type": "markdown",
   "metadata": {},
   "source": [
    "### 2.3 add xgboost classifier as meta learner"
   ]
  },
  {
   "cell_type": "code",
   "execution_count": 14,
   "metadata": {},
   "outputs": [
    {
     "data": {
      "text/plain": [
       "SuperLearner(array_check=2, backend=None, folds=2,\n",
       "       layers=[Layer(backend='threading', dtype=<type 'numpy.float32'>, n_jobs=-1,\n",
       "   name='layer-1', propagate_features=None, raise_on_exception=True,\n",
       "   random_state=None, shuffle=False,\n",
       "   stack=[Group(backend='threading', dtype=<type 'numpy.float32'>,\n",
       "   indexer=FoldIndex(X=None, folds=2, raise_on_exce...rer=None)],\n",
       "   n_jobs=-1, name='group-1', raise_on_exception=True, transformers=[])],\n",
       "   verbose=0)],\n",
       "       model_selection=False, n_jobs=None, raise_on_exception=True,\n",
       "       random_state=None, sample_size=20, scorer=None, shuffle=False,\n",
       "       verbose=False)"
      ]
     },
     "execution_count": 14,
     "metadata": {},
     "output_type": "execute_result"
    }
   ],
   "source": [
    "ensemble.add_meta(xgb.XGBClassifier())"
   ]
  },
  {
   "cell_type": "markdown",
   "metadata": {},
   "source": [
    "### 2.4 train super learner with data"
   ]
  },
  {
   "cell_type": "code",
   "execution_count": 15,
   "metadata": {},
   "outputs": [
    {
     "data": {
      "text/plain": [
       "SuperLearner(array_check=2, backend=None, folds=2,\n",
       "       layers=[Layer(backend='threading', dtype=<type 'numpy.float32'>, n_jobs=-1,\n",
       "   name='layer-1', propagate_features=None, raise_on_exception=True,\n",
       "   random_state=None, shuffle=False,\n",
       "   stack=[Group(backend='threading', dtype=<type 'numpy.float32'>,\n",
       "   indexer=FoldIndex(X=None, folds=2, raise_on_exce...rer=None)],\n",
       "   n_jobs=-1, name='group-1', raise_on_exception=True, transformers=[])],\n",
       "   verbose=0)],\n",
       "       model_selection=False, n_jobs=None, raise_on_exception=True,\n",
       "       random_state=None, sample_size=20, scorer=None, shuffle=False,\n",
       "       verbose=False)"
      ]
     },
     "execution_count": 15,
     "metadata": {},
     "output_type": "execute_result"
    }
   ],
   "source": [
    "ensemble.fit(x_train, y_train)"
   ]
  },
  {
   "cell_type": "markdown",
   "metadata": {},
   "source": [
    "### 2.5 check the result"
   ]
  },
  {
   "cell_type": "code",
   "execution_count": 16,
   "metadata": {},
   "outputs": [
    {
     "data": {
      "text/plain": [
       "0.919378220420454"
      ]
     },
     "execution_count": 16,
     "metadata": {},
     "output_type": "execute_result"
    }
   ],
   "source": [
    "y_pred = ensemble.predict(x_valid)\n",
    "correct_count = 0\n",
    "for t1, t2 in zip(y_valid, y_pred):\n",
    "    if t1 == t2:\n",
    "        correct_count += 1\n",
    "1.0 * correct_count / len(y_pred)"
   ]
  },
  {
   "cell_type": "markdown",
   "metadata": {},
   "source": [
    "### 2.6 save superlearner"
   ]
  },
  {
   "cell_type": "markdown",
   "metadata": {},
   "source": [
    "this superlearner is 144 MB large and has a similar/worse accuracy compared to xgb_best(2.2MB)\n",
    "\n",
    "so I choose to use xgb_best as the final estimator"
   ]
  },
  {
   "cell_type": "code",
   "execution_count": 17,
   "metadata": {
    "scrolled": true
   },
   "outputs": [
    {
     "data": {
      "text/plain": [
       "['models/meta_learner.model']"
      ]
     },
     "execution_count": 17,
     "metadata": {},
     "output_type": "execute_result"
    }
   ],
   "source": [
    "joblib.dump(ensemble, 'models/meta_learner.model')"
   ]
  },
  {
   "cell_type": "code",
   "execution_count": null,
   "metadata": {
    "collapsed": true
   },
   "outputs": [],
   "source": []
  }
 ],
 "metadata": {
  "kernelspec": {
   "display_name": "Python (workenv)",
   "language": "python",
   "name": "workenv"
  },
  "language_info": {
   "codemirror_mode": {
    "name": "ipython",
    "version": 2
   },
   "file_extension": ".py",
   "mimetype": "text/x-python",
   "name": "python",
   "nbconvert_exporter": "python",
   "pygments_lexer": "ipython2",
   "version": "2.7.15"
  }
 },
 "nbformat": 4,
 "nbformat_minor": 2
}
